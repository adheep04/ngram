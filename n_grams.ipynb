{
 "cells": [
  {
   "cell_type": "code",
   "execution_count": 1,
   "metadata": {},
   "outputs": [
    {
     "name": "stderr",
     "output_type": "stream",
     "text": [
      "/home/adheep/miniconda3/envs/nanogpt/lib/python3.13/site-packages/torch/_subclasses/functional_tensor.py:275: UserWarning: Failed to initialize NumPy: No module named 'numpy' (Triggered internally at /pytorch/torch/csrc/utils/tensor_numpy.cpp:81.)\n",
      "  cpu = _conversion_method_template(device=torch.device(\"cpu\"))\n"
     ]
    }
   ],
   "source": [
    "import torch"
   ]
  },
  {
   "cell_type": "code",
   "execution_count": 2,
   "metadata": {},
   "outputs": [
    {
     "data": {
      "text/plain": [
       "' trigram model: '"
      ]
     },
     "execution_count": 2,
     "metadata": {},
     "output_type": "execute_result"
    }
   ],
   "source": [
    "''' four-gram model: '''"
   ]
  },
  {
   "cell_type": "code",
   "execution_count": 3,
   "metadata": {},
   "outputs": [],
   "source": [
    "import os\n",
    "\n",
    "output = 'data/company_names.txt'\n",
    "assert os.path.exists(output)"
   ]
  },
  {
   "cell_type": "code",
   "execution_count": 300,
   "metadata": {},
   "outputs": [
    {
     "name": "stdout",
     "output_type": "stream",
     "text": [
      "Count: 351000\r"
     ]
    }
   ],
   "source": [
    "count_t = 0\n",
    "\n",
    "from utils import ch_to_id, id_to_ch\n",
    "\n",
    "with open(output, 'r') as f:\n",
    "    trigram = torch.zeros((38, 38, 38, 38))\n",
    "    for word in f:\n",
    "        print(f\"Count: {count_t}\", end='\\r') if count_t % 1_000 == 0 else None\n",
    "        count_t += 1\n",
    "        chs = ['<s>'] + ['<s>'] + ['<s>'] + list(word)[:-1] + ['<e>']\n",
    "        for ch1, ch2, ch3, ch4 in zip(chs, chs[1:], chs[2:], chs[3:]):\n",
    "            id1 = ch_to_id[ch1]\n",
    "            id2 = ch_to_id[ch2]\n",
    "            id3 = ch_to_id[ch3]\n",
    "            id4 = ch_to_id[ch4]\n",
    "            trigram[id1, id2, id3, id4] += 1\n",
    "            \n",
    "p_trigram = trigram.float()\n",
    "row_sums = p_trigram.sum(dim=2, keepdim=True)\n",
    "g_trigram = torch.Generator()"
   ]
  },
  {
   "cell_type": "code",
   "execution_count": null,
   "metadata": {},
   "outputs": [],
   "source": [
    "''' inference (run cell again and again)''' "
   ]
  },
  {
   "cell_type": "code",
   "execution_count": 420,
   "metadata": {},
   "outputs": [
    {
     "name": "stdout",
     "output_type": "stream",
     "text": [
      "a2biz\n"
     ]
    }
   ],
   "source": [
    "while True:\n",
    "    word = ''\n",
    "    state = [0, 0, 0]\n",
    "    while True:\n",
    "        \n",
    "        next_id = torch.multinomial(\n",
    "            p_trigram[state[0], state[1], state[2]], \n",
    "            num_samples=1, \n",
    "            replacement=True, \n",
    "            generator=g_trigram\n",
    "        ).item()\n",
    "        \n",
    "        if next_id == 1:\n",
    "            break\n",
    "        state.append(next_id)\n",
    "        state.pop(0)\n",
    "        char = id_to_ch[next_id]\n",
    "        word += char\n",
    "    if len(word) < 10 and len(word) > 4: break\n",
    "print(word)"
   ]
  }
 ],
 "metadata": {
  "kernelspec": {
   "display_name": "nanogpt",
   "language": "python",
   "name": "python3"
  },
  "language_info": {
   "codemirror_mode": {
    "name": "ipython",
    "version": 3
   },
   "file_extension": ".py",
   "mimetype": "text/x-python",
   "name": "python",
   "nbconvert_exporter": "python",
   "pygments_lexer": "ipython3",
   "version": "3.13.1"
  }
 },
 "nbformat": 4,
 "nbformat_minor": 2
}
