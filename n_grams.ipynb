{
 "cells": [
  {
   "cell_type": "code",
   "execution_count": 65,
   "metadata": {},
   "outputs": [],
   "source": [
    "import torch"
   ]
  },
  {
   "cell_type": "code",
   "execution_count": 66,
   "metadata": {},
   "outputs": [
    {
     "data": {
      "text/plain": [
       "' bigram model: '"
      ]
     },
     "execution_count": 66,
     "metadata": {},
     "output_type": "execute_result"
    }
   ],
   "source": [
    "''' bigram model: '''"
   ]
  },
  {
   "cell_type": "code",
   "execution_count": 67,
   "metadata": {},
   "outputs": [
    {
     "name": "stdout",
     "output_type": "stream",
     "text": [
      "Count: 351000\r"
     ]
    }
   ],
   "source": [
    "import os\n",
    "\n",
    "from utils import ch_to_id, id_to_ch\n",
    "\n",
    "output = 'data/company_names.txt'\n",
    "assert os.path.exists(output)\n",
    "\n",
    "count_b = 0\n",
    "with open(output, 'r') as f:\n",
    "    bigram = torch.zeros((38, 38))\n",
    "    for word in f:\n",
    "        print(f\"Count: {count_b}\", end='\\r') if count_b % 1_000 == 0 else None\n",
    "        count_b += 1\n",
    "        chs = ['<s>'] + list(word)[:-1] + ['<e>']\n",
    "        for ch1, ch2 in zip(chs, chs[1:]):\n",
    "            id1 = ch_to_id[ch1]\n",
    "            id2 = ch_to_id[ch2]\n",
    "            bigram[id1, id2] += 1"
   ]
  },
  {
   "cell_type": "code",
   "execution_count": 69,
   "metadata": {},
   "outputs": [],
   "source": [
    "p_bigram = bigram.float()\n",
    "row_sums = p_bigram.sum(dim=1, keepdim=True)\n",
    "p_bigram = torch.where(row_sums > 0, p_bigram/row_sums, p_bigram)"
   ]
  },
  {
   "cell_type": "code",
   "execution_count": 70,
   "metadata": {},
   "outputs": [],
   "source": [
    "g_bigram = torch.Generator()"
   ]
  },
  {
   "cell_type": "code",
   "execution_count": 75,
   "metadata": {},
   "outputs": [
    {
     "name": "stdout",
     "output_type": "stream",
     "text": [
      "chacachos\n"
     ]
    }
   ],
   "source": [
    "word = ''\n",
    "curr = 0\n",
    "while True:\n",
    "    idx = torch.multinomial(p_bigram[curr], num_samples=1, replacement=True, generator=g_bigram).item()\n",
    "    if idx == 1: \n",
    "       break\n",
    "    char = id_to_ch[idx]\n",
    "    word += char\n",
    "    curr = idx\n",
    "print(word)"
   ]
  },
  {
   "cell_type": "code",
   "execution_count": null,
   "metadata": {},
   "outputs": [],
   "source": [
    "''' trigram model: '''"
   ]
  },
  {
   "cell_type": "code",
   "execution_count": 57,
   "metadata": {},
   "outputs": [
    {
     "name": "stdout",
     "output_type": "stream",
     "text": [
      "Count: 351000\r"
     ]
    }
   ],
   "source": [
    "count_t = 0\n",
    "\n",
    "with open(output, 'r') as f:\n",
    "    trigram = torch.zeros((38, 38, 38))\n",
    "    for word in f:\n",
    "        print(f\"Count: {count_t}\", end='\\r') if count_t % 1_000 == 0 else None\n",
    "        count_t += 1\n",
    "        chs = ['<s>'] + list(word)[:-1] + ['<e>']\n",
    "        for ch1, ch2, ch3 in zip(chs, chs[1:], chs[2:]):\n",
    "            id1 = ch_to_id[ch1]\n",
    "            id2 = ch_to_id[ch2]\n",
    "            id3 = ch_to_id[ch3]\n",
    "            trigram[id1, id2, id3] += 1"
   ]
  },
  {
   "cell_type": "code",
   "execution_count": 68,
   "metadata": {},
   "outputs": [],
   "source": [
    "bigram_2 = trigram.sum(dim=2)"
   ]
  },
  {
   "cell_type": "code",
   "execution_count": 58,
   "metadata": {},
   "outputs": [],
   "source": [
    "p_trigram = trigram.float()\n",
    "row_sums = p_trigram.sum(dim=2, keepdim=True)\n",
    "p_trigram = torch.where(row_sums > 0, p_bigram/row_sums, p_bigram)"
   ]
  },
  {
   "cell_type": "code",
   "execution_count": 63,
   "metadata": {},
   "outputs": [
    {
     "name": "stdout",
     "output_type": "stream",
     "text": [
      "torch.Size([38, 38])\n"
     ]
    }
   ],
   "source": [
    "g_trigram = torch.Generator()"
   ]
  },
  {
   "cell_type": "code",
   "execution_count": 11,
   "metadata": {},
   "outputs": [
    {
     "ename": "NameError",
     "evalue": "name 'ch_to_id' is not defined",
     "output_type": "error",
     "traceback": [
      "\u001b[0;31m---------------------------------------------------------------------------\u001b[0m",
      "\u001b[0;31mNameError\u001b[0m                                 Traceback (most recent call last)",
      "Cell \u001b[0;32mIn[11], line 1\u001b[0m\n\u001b[0;32m----> 1\u001b[0m idx_1 \u001b[38;5;241m=\u001b[39m \u001b[43mch_to_id\u001b[49m[\u001b[38;5;124m'\u001b[39m\u001b[38;5;124mb\u001b[39m\u001b[38;5;124m'\u001b[39m]\n\u001b[1;32m      3\u001b[0m \u001b[38;5;28;01mwhile\u001b[39;00m \u001b[38;5;28;01mTrue\u001b[39;00m:\n\u001b[1;32m      4\u001b[0m     word \u001b[38;5;241m=\u001b[39m \u001b[38;5;124m'\u001b[39m\u001b[38;5;124m'\u001b[39m\n",
      "\u001b[0;31mNameError\u001b[0m: name 'ch_to_id' is not defined"
     ]
    }
   ],
   "source": [
    "idx_1 = ch_to_id['b']\n",
    "\n",
    "while True:\n",
    "    word = ''\n",
    "    curr = 0\n",
    "    state = [ch_to_id['<s>']]\n",
    "    if idx_1 is None:\n",
    "        idx_1 = torch.multinomial(p_bigram[curr], num_samples=1, replacement=True, generator=g_bigram).item()\n",
    "    state.append(idx_1)\n",
    "    \n",
    "    while True:\n",
    "        \n",
    "        next_id = torch.multinomial(p_trigram[state[0], state[1]], num_samples=1, replacement=True, generator=g_bigram).item()\n",
    "        state.append(next_id)\n",
    "        state.pop(0)       \n",
    "        if next_id == 1:\n",
    "            break\n",
    "        char = id_to_ch[next_id]\n",
    "        word += char\n",
    "        curr = idx\n",
    "    if len(word) > 5 and len(word) < 9: \n",
    "        print(word)"
   ]
  },
  {
   "cell_type": "code",
   "execution_count": null,
   "metadata": {},
   "outputs": [
    {
     "data": {
      "text/plain": [
       "tensor([[0.],\n",
       "        [0.],\n",
       "        [0.],\n",
       "        [0.],\n",
       "        [0.]])"
      ]
     },
     "execution_count": 10,
     "metadata": {},
     "output_type": "execute_result"
    }
   ],
   "source": [
    "import torch\n",
    "\n",
    "ten = torch.zeros((5, 1))\n",
    "ten"
   ]
  }
 ],
 "metadata": {
  "kernelspec": {
   "display_name": "nanogpt",
   "language": "python",
   "name": "python3"
  },
  "language_info": {
   "codemirror_mode": {
    "name": "ipython",
    "version": 3
   },
   "file_extension": ".py",
   "mimetype": "text/x-python",
   "name": "python",
   "nbconvert_exporter": "python",
   "pygments_lexer": "ipython3",
   "version": "3.13.1"
  }
 },
 "nbformat": 4,
 "nbformat_minor": 2
}
